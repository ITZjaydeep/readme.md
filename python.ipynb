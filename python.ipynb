{
 "cells": [
  {
   "cell_type": "markdown",
   "id": "a49c6c2e",
   "metadata": {},
   "source": [
    "# Python"
   ]
  },
  {
   "cell_type": "markdown",
   "id": "fc0fae4e",
   "metadata": {},
   "source": [
    "### 1. What are the key features of Python?"
   ]
  },
  {
   "cell_type": "markdown",
   "id": "104281f7",
   "metadata": {},
   "source": [
    "- Easy-to-read syntax\n",
    "- Dynamically typed\n",
    "- Interpreted language\n",
    "- Object-oriented\n",
    "- Extensive standard library\n",
    "- Portable and extensible"
   ]
  },
  {
   "cell_type": "markdown",
   "id": "a84becb7",
   "metadata": {},
   "source": [
    "### 2. Differentiate between lists and tuples."
   ]
  },
  {
   "cell_type": "markdown",
   "id": "c6c9bf1a",
   "metadata": {},
   "source": [
    "- Lists are mutable, while tuples are immutable.\n",
    "- Lists are defined using square brackets [], while tuples are defined using parentheses ().\n",
    "- Lists have more built-in methods for manipulation compared to tuples."
   ]
  },
  {
   "cell_type": "markdown",
   "id": "1462a0da",
   "metadata": {},
   "source": [
    "### 3. Explain the ternary operator in Python."
   ]
  },
  {
   "cell_type": "markdown",
   "id": "55432cc8",
   "metadata": {},
   "source": [
    "- The ternary operator in Python is a one-liner conditional expression that evaluates a condition and returns one of two values based on whether the condition is true or false.\n",
    "- Syntax: `x if condition else y`"
   ]
  },
  {
   "cell_type": "code",
   "execution_count": 1,
   "id": "a1a21917",
   "metadata": {},
   "outputs": [
    {
     "data": {
      "text/plain": [
       "'even'"
      ]
     },
     "execution_count": 1,
     "metadata": {},
     "output_type": "execute_result"
    }
   ],
   "source": [
    "'odd' if 12%2==1 else 'even'"
   ]
  },
  {
   "cell_type": "markdown",
   "id": "48e54b85",
   "metadata": {},
   "source": [
    "### 4. What are negative indices?"
   ]
  },
  {
   "cell_type": "markdown",
   "id": "527f03e5",
   "metadata": {},
   "source": [
    "- Negative indices in Python refer to indexing elements from the end of a sequence (like a list or a string), with -1 representing the last element, -2 representing the second last, and so on."
   ]
  },
  {
   "cell_type": "code",
   "execution_count": 2,
   "id": "e2aa4905",
   "metadata": {},
   "outputs": [
    {
     "data": {
      "text/plain": [
       "(5, 'p')"
      ]
     },
     "execution_count": 2,
     "metadata": {},
     "output_type": "execute_result"
    }
   ],
   "source": [
    "[1,2,5,3][-2], 'python'[-6]"
   ]
  },
  {
   "cell_type": "markdown",
   "id": "dd58ba7b",
   "metadata": {},
   "source": [
    "### 5. Is Python case-sensitive?"
   ]
  },
  {
   "cell_type": "markdown",
   "id": "b4d1bcd3",
   "metadata": {},
   "source": [
    "- Yes, Python is case-sensitive. For example, variable and Variable would be considered two different variables."
   ]
  },
  {
   "cell_type": "markdown",
   "id": "7377a076",
   "metadata": {},
   "source": [
    "### 6. How long can an identifier be in Python?"
   ]
  },
  {
   "cell_type": "markdown",
   "id": "18b65d8a",
   "metadata": {},
   "source": [
    "- Identifiers can be of any length, but they must start with a letter (a-z, A-Z) or an underscore (_) followed by letters, digits (0-9), or underscores."
   ]
  },
  {
   "cell_type": "markdown",
   "id": "83c97d6b",
   "metadata": {},
   "source": [
    "### 7. How would you convert a string into lowercase?"
   ]
  },
  {
   "cell_type": "markdown",
   "id": "6f7efa32",
   "metadata": {},
   "source": [
    "- You can use the lower() method on a string to convert it to lowercase."
   ]
  },
  {
   "cell_type": "code",
   "execution_count": 3,
   "id": "28638893",
   "metadata": {},
   "outputs": [
    {
     "data": {
      "text/plain": [
       "'aabc'"
      ]
     },
     "execution_count": 3,
     "metadata": {},
     "output_type": "execute_result"
    }
   ],
   "source": [
    "'AAbc'.lower()"
   ]
  },
  {
   "cell_type": "markdown",
   "id": "6ce52ba6",
   "metadata": {},
   "source": [
    "### 8. What is the pass statement in Python?"
   ]
  },
  {
   "cell_type": "markdown",
   "id": "10146dd6",
   "metadata": {},
   "source": [
    "- pass is a null operation in Python. It doesn't do anything and acts as a placeholder. It is often used as a placeholder when a statement is syntactically required but you don't want any code to execute."
   ]
  },
  {
   "cell_type": "markdown",
   "id": "07740847",
   "metadata": {},
   "source": [
    "### 9. Explain help() and dir() functions in Python."
   ]
  },
  {
   "cell_type": "markdown",
   "id": "ad4e5424",
   "metadata": {},
   "source": [
    "- help() function provides interactive help on Python objects.\n",
    "- dir() function returns a list of valid attributes for an object."
   ]
  },
  {
   "cell_type": "code",
   "execution_count": 6,
   "id": "c5a40358",
   "metadata": {},
   "outputs": [
    {
     "name": "stdout",
     "output_type": "stream",
     "text": [
      "Help on built-in function len in module builtins:\n",
      "\n",
      "len(obj, /)\n",
      "    Return the number of items in a container.\n",
      "\n"
     ]
    }
   ],
   "source": [
    "help(len)"
   ]
  },
  {
   "cell_type": "code",
   "execution_count": 13,
   "id": "cec5eaeb",
   "metadata": {},
   "outputs": [
    {
     "data": {
      "text/plain": [
       "['__add__',\n",
       " '__class__',\n",
       " '__contains__',\n",
       " '__delattr__',\n",
       " '__dir__',\n",
       " '__doc__',\n",
       " '__eq__',\n",
       " '__format__',\n",
       " '__ge__',\n",
       " '__getattribute__',\n",
       " '__getitem__',\n",
       " '__getnewargs__',\n",
       " '__gt__',\n",
       " '__hash__',\n",
       " '__init__',\n",
       " '__init_subclass__',\n",
       " '__iter__',\n",
       " '__le__',\n",
       " '__len__',\n",
       " '__lt__',\n",
       " '__mod__',\n",
       " '__mul__',\n",
       " '__ne__',\n",
       " '__new__',\n",
       " '__reduce__',\n",
       " '__reduce_ex__',\n",
       " '__repr__',\n",
       " '__rmod__',\n",
       " '__rmul__',\n",
       " '__setattr__',\n",
       " '__sizeof__',\n",
       " '__str__',\n",
       " '__subclasshook__',\n",
       " 'capitalize',\n",
       " 'casefold',\n",
       " 'center',\n",
       " 'count',\n",
       " 'encode',\n",
       " 'endswith',\n",
       " 'expandtabs',\n",
       " 'find',\n",
       " 'format',\n",
       " 'format_map',\n",
       " 'index',\n",
       " 'isalnum',\n",
       " 'isalpha',\n",
       " 'isascii',\n",
       " 'isdecimal',\n",
       " 'isdigit',\n",
       " 'isidentifier',\n",
       " 'islower',\n",
       " 'isnumeric',\n",
       " 'isprintable',\n",
       " 'isspace',\n",
       " 'istitle',\n",
       " 'isupper',\n",
       " 'join',\n",
       " 'ljust',\n",
       " 'lower',\n",
       " 'lstrip',\n",
       " 'maketrans',\n",
       " 'partition',\n",
       " 'removeprefix',\n",
       " 'removesuffix',\n",
       " 'replace',\n",
       " 'rfind',\n",
       " 'rindex',\n",
       " 'rjust',\n",
       " 'rpartition',\n",
       " 'rsplit',\n",
       " 'rstrip',\n",
       " 'split',\n",
       " 'splitlines',\n",
       " 'startswith',\n",
       " 'strip',\n",
       " 'swapcase',\n",
       " 'title',\n",
       " 'translate',\n",
       " 'upper',\n",
       " 'zfill']"
      ]
     },
     "execution_count": 13,
     "metadata": {},
     "output_type": "execute_result"
    }
   ],
   "source": [
    "dir('')"
   ]
  },
  {
   "cell_type": "markdown",
   "id": "be419073",
   "metadata": {},
   "source": [
    "### 10. How do you get a list of all the keys in a dictionary?"
   ]
  },
  {
   "cell_type": "markdown",
   "id": "90fe9ac7",
   "metadata": {},
   "source": [
    "- You can use the keys() method to get a list of all keys in a dictionary."
   ]
  },
  {
   "cell_type": "code",
   "execution_count": 4,
   "id": "52cbd517",
   "metadata": {},
   "outputs": [
    {
     "data": {
      "text/plain": [
       "(dict_keys(['x', 'y', 'z']), dict_keys)"
      ]
     },
     "execution_count": 4,
     "metadata": {},
     "output_type": "execute_result"
    }
   ],
   "source": [
    "{'x':1, 'y':2, 'z':3}.keys(), type({'x':1, 'y':2, 'z':3}.keys())"
   ]
  },
  {
   "cell_type": "markdown",
   "id": "a56cde3c",
   "metadata": {},
   "source": [
    "### 11. What is slicing?"
   ]
  },
  {
   "cell_type": "markdown",
   "id": "1d4d5ee5",
   "metadata": {},
   "source": [
    "- Slicing is a way to extract a portion of a sequence (like a list, tuple, or string) by specifying a range of indices."
   ]
  },
  {
   "cell_type": "markdown",
   "id": "d8fce37e",
   "metadata": {},
   "source": [
    "### 12. How would you declare a comment in Python?"
   ]
  },
  {
   "cell_type": "markdown",
   "id": "5f0ef0ef",
   "metadata": {},
   "source": [
    "- Comments in Python start with the hash character (#)."
   ]
  },
  {
   "cell_type": "markdown",
   "id": "05e47f1c",
   "metadata": {},
   "source": [
    "### 13. How will you check if all characters in a string are alphanumeric?"
   ]
  },
  {
   "cell_type": "markdown",
   "id": "0b9b882f",
   "metadata": {},
   "source": [
    "- You can use the isalnum() method on a string to check if all characters are alphanumeric."
   ]
  },
  {
   "cell_type": "code",
   "execution_count": 23,
   "id": "35df2ccb",
   "metadata": {},
   "outputs": [
    {
     "data": {
      "text/plain": [
       "(True, True, True, False)"
      ]
     },
     "execution_count": 23,
     "metadata": {},
     "output_type": "execute_result"
    }
   ],
   "source": [
    "'Ab980'.isalnum(), 'Ab'.isalnum(), '980'.isalnum(), 'Ab<>'.isalnum()"
   ]
  },
  {
   "cell_type": "markdown",
   "id": "a4179933",
   "metadata": {},
   "source": [
    "### 14. How will you capitalize the first letter of a string?"
   ]
  },
  {
   "cell_type": "markdown",
   "id": "77cc65a1",
   "metadata": {},
   "source": [
    "- You can use the capitalize() method on a string to capitalize the first letter."
   ]
  },
  {
   "cell_type": "code",
   "execution_count": 24,
   "id": "a8e0b3c7",
   "metadata": {},
   "outputs": [
    {
     "data": {
      "text/plain": [
       "'Python'"
      ]
     },
     "execution_count": 24,
     "metadata": {},
     "output_type": "execute_result"
    }
   ],
   "source": [
    "'python'.capitalize()"
   ]
  },
  {
   "cell_type": "markdown",
   "id": "015bfe13",
   "metadata": {},
   "source": [
    "### 15. We know Python is all the rage these days. But to be truly accepting of a great technology, you must know its pitfalls as well. Would you like to talk about this?"
   ]
  },
  {
   "cell_type": "markdown",
   "id": "5f3c1f67",
   "metadata": {},
   "source": [
    "1. **Performance**:\n",
    "   - Python is an interpreted language, which can result in slower execution speed compared to compiled languages like C or C++.\n",
    "   - Certain computational tasks, especially those involving heavy computation or low-level system interactions, may be slower in Python compared to other languages.\n",
    "\n",
    "2. **Global Interpreter Lock (GIL)**:\n",
    "   - The Global Interpreter Lock in Python limits the execution of multiple threads within a single process.\n",
    "   - This can hinder the performance of multi-threaded CPU-bound applications as only one thread can execute Python bytecode at a time.\n",
    "\n",
    "3. **Mobile Development**:\n",
    "   - While Python has frameworks like Kivy and BeeWare for mobile app development, it's not as commonly used for mobile development compared to languages like Java (Android) or Swift (iOS).\n",
    "   - Performance and native platform integrations can be limiting factors for mobile development in Python.\n",
    "\n",
    "4. **Resource Consumption**:\n",
    "   - Python can consume more memory compared to lower-level languages due to its dynamic typing and automatic memory management.\n",
    "   - Memory consumption can be a concern for applications that need to scale or run on resource-constrained environments.\n",
    "\n",
    "5. **Version Compatibility**:\n",
    "   - Python has had multiple versions released over the years (Python 2.x and Python 3.x), and while efforts have been made to encourage migration to Python 3, there's still a significant amount of code written in Python 2.\n",
    "   - Compatibility issues between Python 2 and Python 3 can be a challenge for maintaining and updating existing codebases.\n",
    "\n",
    "6. **Packaging and Distribution**:\n",
    "   - Packaging and distributing Python applications can be complex, especially when dealing with dependencies and different operating systems.\n",
    "   - Dependency management, version conflicts, and ensuring consistent environments across different systems can be challenging tasks.\n",
    "\n",
    "7. **Threading Limitations**:\n",
    "   - Due to the GIL, Python's threading model may not be suitable for CPU-bound tasks that require parallel execution.\n",
    "   - While asynchronous programming with asyncio can mitigate some of these limitations, it may not be suitable for all use cases.\n",
    "\n",
    "8. **Compiler Limitations**:\n",
    "   - Python's dynamic nature can make it challenging for compilers to perform optimizations compared to statically typed languages.\n",
    "   - This can result in less efficient compiled code and limited opportunities for compiler optimizations.\n",
    "\n",
    "9. **Community Fragmentation**:\n",
    "   - The Python community is diverse, with multiple frameworks, libraries, and tools available for various tasks.\n",
    "   - While diversity is generally positive, it can also lead to fragmentation, making it harder for developers to choose the best tools and maintain interoperability between different projects."
   ]
  },
  {
   "cell_type": "markdown",
   "id": "b3d73feb",
   "metadata": {},
   "source": [
    "### 16. With Python, how do you find out which directory you are currently in?"
   ]
  },
  {
   "cell_type": "markdown",
   "id": "a7e73527",
   "metadata": {},
   "source": [
    "- You can use the os.getcwd() function from the os module to get the current working directory."
   ]
  },
  {
   "cell_type": "code",
   "execution_count": 25,
   "id": "31d77ff6",
   "metadata": {},
   "outputs": [
    {
     "data": {
      "text/plain": [
       "'D:\\\\INTERVIEW\\\\python'"
      ]
     },
     "execution_count": 25,
     "metadata": {},
     "output_type": "execute_result"
    }
   ],
   "source": [
    "import os\n",
    "os.getcwd()"
   ]
  },
  {
   "cell_type": "markdown",
   "id": "d90d6180",
   "metadata": {},
   "source": [
    "### 17. How do you insert an object at a given index in Python?"
   ]
  },
  {
   "cell_type": "markdown",
   "id": "44ed9907",
   "metadata": {},
   "source": [
    "- You can use the insert() method on a list to insert an object at a specified index"
   ]
  },
  {
   "cell_type": "code",
   "execution_count": 28,
   "id": "6b38d31c",
   "metadata": {},
   "outputs": [
    {
     "data": {
      "text/plain": [
       "[1, 99, 2, 3]"
      ]
     },
     "execution_count": 28,
     "metadata": {},
     "output_type": "execute_result"
    }
   ],
   "source": [
    "x = [1,2,3]\n",
    "x.insert(1,99)\n",
    "x"
   ]
  },
  {
   "cell_type": "markdown",
   "id": "2ae00382",
   "metadata": {},
   "source": [
    "### 18. And how do you reverse a list?"
   ]
  },
  {
   "cell_type": "markdown",
   "id": "6f350021",
   "metadata": {},
   "source": [
    "- You can use the reverse() method to reverse a list in-place. Alternatively, you can use slicing with a step of -1 to reverse a list without modifying the original list."
   ]
  },
  {
   "cell_type": "code",
   "execution_count": 35,
   "id": "24ae1c53",
   "metadata": {},
   "outputs": [
    {
     "name": "stdout",
     "output_type": "stream",
     "text": [
      "[3, 2, 1]\n",
      "[3, 2, 1]\n",
      "[1, 2, 3]\n",
      "None\n",
      "[3, 2, 1]\n"
     ]
    }
   ],
   "source": [
    "x = [1,2,3]\n",
    "print(x[::-1])\n",
    "print(list(reversed(x)))\n",
    "print(x)\n",
    "print(x.reverse())\n",
    "print(x)"
   ]
  },
  {
   "cell_type": "code",
   "execution_count": 31,
   "id": "7ce69b89",
   "metadata": {},
   "outputs": [
    {
     "data": {
      "text/plain": [
       "<list_reverseiterator at 0x2522fdf6f20>"
      ]
     },
     "execution_count": 31,
     "metadata": {},
     "output_type": "execute_result"
    }
   ],
   "source": [
    "reversed(x)"
   ]
  },
  {
   "cell_type": "markdown",
   "id": "8f403350",
   "metadata": {},
   "source": [
    "### 19. What is the Python interpreter prompt?"
   ]
  },
  {
   "cell_type": "markdown",
   "id": "14d00f6d",
   "metadata": {},
   "source": [
    "- The Python interpreter prompt is the command line interface where you can directly interact with the Python interpreter. It's typically represented by the `>>>` symbol, where you can type Python code directly and have it executed immediately."
   ]
  },
  {
   "cell_type": "markdown",
   "id": "c6973801",
   "metadata": {},
   "source": [
    "### 20. How does a function return values?"
   ]
  },
  {
   "cell_type": "markdown",
   "id": "d4bc8491",
   "metadata": {},
   "source": [
    "- Function can return values using the `return` statement. When the `return` statement is encountered in a function, it immediately terminates the function's execution and returns the specified value(s) to the caller. If no value is explicitly returned, the function returns `None` by default."
   ]
  },
  {
   "cell_type": "code",
   "execution_count": 5,
   "id": "24c90bc4",
   "metadata": {},
   "outputs": [
    {
     "name": "stdout",
     "output_type": "stream",
     "text": [
      "8\n"
     ]
    }
   ],
   "source": [
    "def add_numbers(a, b):\n",
    "    return a + b\n",
    "\n",
    "result = add_numbers(3, 5)\n",
    "print(result)"
   ]
  },
  {
   "cell_type": "markdown",
   "id": "76bfb42e",
   "metadata": {},
   "source": [
    "### 21. How would you define a block in Python?"
   ]
  },
  {
   "cell_type": "markdown",
   "id": "70869633",
   "metadata": {},
   "source": [
    "- A block in Python refers to a group of statements that are grouped together and executed as a unit.\n",
    "- Blocks are denoted by indentation, and they are used to define the body of functions, loops, conditional statements, and other control structures."
   ]
  },
  {
   "cell_type": "markdown",
   "id": "61692cac",
   "metadata": {},
   "source": [
    "### 22. Why do we need break and continue in Python?"
   ]
  },
  {
   "cell_type": "markdown",
   "id": "16d5ce22",
   "metadata": {},
   "source": [
    "- In Python, `break` and `continue` are control flow statements used within loops:\n",
    "   - `break`: It terminates the loop it's currently in, and control flows to the statement immediately following the loop.\n",
    "   - `continue`: It skips the rest of the code inside the loop for the current iteration and proceeds to the next iteration of the loop.\n"
   ]
  },
  {
   "cell_type": "markdown",
   "id": "fde32859",
   "metadata": {},
   "source": [
    "### 23. Will the do-while loop work if you don’t end it with a semicolon?"
   ]
  },
  {
   "cell_type": "markdown",
   "id": "cc44c858",
   "metadata": {},
   "source": [
    "- Python doesn't have a `do-while` loop like some other languages.\n",
    "- In Python, you typically use a `while` loop with a condition that checks whether to continue or not.\n",
    "- The loop ends when the condition evaluates to `False`.\n",
    "- The presence or absence of a semicolon at the end of the loop does not affect its functionality."
   ]
  },
  {
   "cell_type": "code",
   "execution_count": 6,
   "id": "946e1186",
   "metadata": {},
   "outputs": [
    {
     "name": "stdout",
     "output_type": "stream",
     "text": [
      "3\n",
      "2\n",
      "1\n"
     ]
    }
   ],
   "source": [
    "num = 3\n",
    "while num!=0:\n",
    "    print(num)\n",
    "    num -= 1;"
   ]
  },
  {
   "cell_type": "markdown",
   "id": "840f5f2e",
   "metadata": {},
   "source": [
    "### 24. In one line, show us how you’ll get the max alphabetical character from a string."
   ]
  },
  {
   "cell_type": "markdown",
   "id": "e0c1a6f7",
   "metadata": {},
   "source": [
    "- To get the maximum alphabetical character from a string, you can use the `max()` function along with the `ord()` function to get the character with the highest Unicode value."
   ]
  },
  {
   "cell_type": "code",
   "execution_count": 11,
   "id": "5ba8b59d",
   "metadata": {},
   "outputs": [
    {
     "data": {
      "text/plain": [
       "'z'"
      ]
     },
     "execution_count": 11,
     "metadata": {},
     "output_type": "execute_result"
    }
   ],
   "source": [
    "max_char = max(\"xyzwop\", key=ord)\n",
    "max_char"
   ]
  },
  {
   "cell_type": "markdown",
   "id": "2e66027f",
   "metadata": {},
   "source": [
    "### 25. What is Python good for?"
   ]
  },
  {
   "cell_type": "markdown",
   "id": "7b1a4f50",
   "metadata": {},
   "source": [
    "- Python is good for a wide range of tasks including web development, data analysis, machine learning, artificial intelligence, scientific computing, automation, scripting, and more."
   ]
  },
  {
   "cell_type": "markdown",
   "id": "9a064762",
   "metadata": {},
   "source": [
    "### 26. Can you name ten built-in functions in Python and explain each in brief?"
   ]
  },
  {
   "cell_type": "markdown",
   "id": "6eb13887",
   "metadata": {},
   "source": [
    "- Ten built-in functions in Python and their brief explanations:\n",
    "   - `print()`: Used to display output on the console.\n",
    "   - `len()`: Returns the length (number of items) of an object like a string, list, tuple, etc.\n",
    "   - `input()`: Reads input from the user via the console.\n",
    "   - `range()`: Generates a sequence of numbers.\n",
    "   - `int()`, `float()`, `str()`: Convert a value to an integer, float, or string, respectively.\n",
    "   - `type()`: Returns the type of an object.\n",
    "   - `sum()`: Returns the sum of a sequence of numbers.\n",
    "   - `sorted()`: Returns a sorted list from the elements of any iterable.\n",
    "   - `max()`, `min()`: Returns the maximum or minimum value from a sequence."
   ]
  },
  {
   "cell_type": "markdown",
   "id": "70633efe",
   "metadata": {},
   "source": [
    "### 27. What will the following code output?\n",
    " ```python\n",
    " word = 'abcdefghij'\n",
    " print(word[:3] + word[3:])\n",
    " ```"
   ]
  },
  {
   "cell_type": "markdown",
   "id": "89e38ca7",
   "metadata": {},
   "source": [
    "- The following code will output the original string `abcdefghij`. This is because `word[:3]` retrieves the substring from index 0 to index 2 (inclusive), and `word[3:]` retrieves the substring from index 3 to the end of the string."
   ]
  },
  {
   "cell_type": "markdown",
   "id": "f9dde108",
   "metadata": {},
   "source": [
    "### 28. How will you convert a list into a string?"
   ]
  },
  {
   "cell_type": "markdown",
   "id": "f9ee2ec0",
   "metadata": {},
   "source": [
    "- To convert a list into a string, you can use the `join()` method of strings. For example:"
   ]
  },
  {
   "cell_type": "code",
   "execution_count": 12,
   "id": "4340c2e6",
   "metadata": {},
   "outputs": [
    {
     "data": {
      "text/plain": [
       "'Hello World'"
      ]
     },
     "execution_count": 12,
     "metadata": {},
     "output_type": "execute_result"
    }
   ],
   "source": [
    "my_list = [\"Hello\", \"World\"]\n",
    "\" \".join(my_list)"
   ]
  },
  {
   "cell_type": "markdown",
   "id": "040f34bf",
   "metadata": {},
   "source": [
    "### 29. How will you remove a duplicate element from a list?"
   ]
  },
  {
   "cell_type": "markdown",
   "id": "4c712718",
   "metadata": {},
   "source": [
    "- To remove duplicate elements from a list, you can convert it into a set, which automatically eliminates duplicates, and then convert it back into a list:"
   ]
  },
  {
   "cell_type": "code",
   "execution_count": 13,
   "id": "34b35ce0",
   "metadata": {},
   "outputs": [
    {
     "data": {
      "text/plain": [
       "[1, 2, 3, 4, 5]"
      ]
     },
     "execution_count": 13,
     "metadata": {},
     "output_type": "execute_result"
    }
   ],
   "source": [
    "my_list = [1, 2, 3, 3, 4, 5, 5]\n",
    "list(set(my_list))"
   ]
  },
  {
   "cell_type": "markdown",
   "id": "b14aa7b8",
   "metadata": {},
   "source": [
    "### 30. Can you explain the life cycle of a thread?"
   ]
  },
  {
   "cell_type": "markdown",
   "id": "125ff68b",
   "metadata": {},
   "source": [
    "- The life cycle of a thread in Python involves several stages:\n",
    "    - Creation: A thread is created using the `Thread` class from the `threading` module or by subclassing the `Thread` class and overriding the `run()` method.\n",
    "    - Start: The thread starts executing its `run()` method by calling the `start()` method.\n",
    "    - Execution: The thread executes the code in its `run()` method concurrently with other threads.\n",
    "    - Termination: The thread completes its execution either normally or due to an exception. Once the `run()` method returns, the thread terminates.\n",
    "    - Cleanup: After the thread terminates, its resources are released, and it enters the terminated state.\n"
   ]
  },
  {
   "cell_type": "markdown",
   "id": "63b0e75b",
   "metadata": {},
   "source": [
    "### 31. What is a dictionary in Python?"
   ]
  },
  {
   "cell_type": "markdown",
   "id": "ef770398",
   "metadata": {},
   "source": [
    "- A dictionary in Python is an unordered collection of key-value pairs.\n",
    "- It is defined using curly braces `{}`, with each key-value pair separated by a colon `:`.\n",
    "- Dictionaries are mutable, iterable, and can contain elements of different data types."
   ]
  },
  {
   "cell_type": "markdown",
   "id": "2bb2b449",
   "metadata": {},
   "source": [
    "### 32. Explain the //, %, and ** operators in Python."
   ]
  },
  {
   "cell_type": "markdown",
   "id": "1a0c46e2",
   "metadata": {},
   "source": [
    "- `//`: Floor Division Operator - It performs division and returns the integer part of the quotient. For example, `5 // 2` returns `2`.\n",
    "- `%`: Modulus Operator - It returns the remainder of the division operation. For example, `5 % 2` returns `1`.\n",
    "- `**`: Exponentiation Operator - It raises the left operand to the power of the right operand. For example, `2 ** 3` returns `8`."
   ]
  },
  {
   "cell_type": "markdown",
   "id": "d2f8d578",
   "metadata": {},
   "source": [
    "### 33. What do you know about relational operators in Python."
   ]
  },
  {
   "cell_type": "markdown",
   "id": "b2465dc9",
   "metadata": {},
   "source": [
    "- Relational operators in Python are used to compare two values. They include `==` (equal to), `!=` (not equal to), `>` (greater than), `<` (less than), `>=` (greater than or equal to), and `<=` (less than or equal to).\n",
    "- These operators return Boolean values (`True` or `False`) based on the comparison result."
   ]
  },
  {
   "cell_type": "markdown",
   "id": "c1824f24",
   "metadata": {},
   "source": [
    "### 34. What are assignment operators in Python?"
   ]
  },
  {
   "cell_type": "markdown",
   "id": "30e64041",
   "metadata": {},
   "source": [
    "- Assignment operators in Python are used to assign values to variables. They include `=`, `+=`, `-=`, `*=`, `/=`, `%=`, `//=`, `**=`, `&=`, `|=`, `^=`, `<<=`, and `>>=`.\n",
    "- They perform the operation specified on the left operand with the right operand and assign the result to the left operand."
   ]
  },
  {
   "cell_type": "markdown",
   "id": "37396a09",
   "metadata": {},
   "source": [
    "### 35. Explain logical operators in Python."
   ]
  },
  {
   "cell_type": "markdown",
   "id": "de28a079",
   "metadata": {},
   "source": [
    "- Logical operators in Python are used to perform logical operations on Boolean values. They include `and`, `or`, and `not`. \n",
    "    - `and`: Returns `True` if both operands are `True`.\n",
    "    - `or`: Returns `True` if at least one of the operands is `True`.\n",
    "    - `not`: Returns the opposite Boolean value of the operand."
   ]
  },
  {
   "cell_type": "markdown",
   "id": "266cfad8",
   "metadata": {},
   "source": [
    "### 36. What are membership operators?"
   ]
  },
  {
   "cell_type": "markdown",
   "id": "c60e64de",
   "metadata": {},
   "source": [
    "- Membership operators in Python are used to test if a value is present in a sequence (such as strings, lists, tuples, sets, or dictionaries). They include `in` and `not in`. \n",
    "    - `in`: Returns `True` if the value is present in the sequence.\n",
    "    - `not in`: Returns `True` if the value is not present in the sequence."
   ]
  },
  {
   "cell_type": "markdown",
   "id": "258e4f6b",
   "metadata": {},
   "source": [
    "### 37. Explain identity operators in Python."
   ]
  },
  {
   "cell_type": "markdown",
   "id": "7db2f88e",
   "metadata": {},
   "source": [
    "- Identity operators in Python are used to compare the memory locations of two objects. They include `is` and `is not`.\n",
    "    - `is`: Returns `True` if both operands refer to the same object.\n",
    "    - `is not`: Returns `True` if both operands refer to different objects."
   ]
  },
  {
   "cell_type": "markdown",
   "id": "adbad461",
   "metadata": {},
   "source": [
    "### 38. Tell us about bitwise operators in Python."
   ]
  },
  {
   "cell_type": "markdown",
   "id": "dd6a3ca8",
   "metadata": {},
   "source": [
    "- Bitwise operators in Python are used to perform operations on individual bits of integers. They include `&` (AND), `|` (OR), `^` (XOR), `~` (NOT), `<<` (left shift), and `>>` (right shift).\n",
    "- These operators work at the binary level."
   ]
  },
  {
   "cell_type": "markdown",
   "id": "d56011b0",
   "metadata": {},
   "source": [
    "### 39. What data types does Python support?"
   ]
  },
  {
   "cell_type": "markdown",
   "id": "2da79072",
   "metadata": {},
   "source": [
    "- Python supports various data types, including integers, floating-point numbers, complex numbers, strings, lists, tuples, dictionaries, sets, Boolean, and NoneType (None).\n",
    "- Additionally, Python allows defining custom data types using classes."
   ]
  },
  {
   "cell_type": "markdown",
   "id": "ec25f12e",
   "metadata": {},
   "source": [
    "### 40. What is a docstring?"
   ]
  },
  {
   "cell_type": "markdown",
   "id": "f72eadac",
   "metadata": {},
   "source": [
    "- A docstring in Python is a string literal that occurs as the first statement in a module, function, class, or method definition.\n",
    "- It is used to provide documentation about the purpose, usage, and behavior of the code entity it precedes.\n",
    "- Docstrings can span multiple lines and are enclosed in triple quotes (`'''` or `\"\"\"`).\n",
    "- They can be accessed using the `__doc__` attribute of the object.\n",
    "- Docstrings are commonly used to generate documentation automatically using tools like Sphinx."
   ]
  },
  {
   "cell_type": "markdown",
   "id": "14b9efad",
   "metadata": {},
   "source": [
    "### 41. How would you convert a string into an int in Python?"
   ]
  },
  {
   "cell_type": "markdown",
   "id": "d1ef74b8",
   "metadata": {},
   "source": [
    "- To convert a string into an integer in Python, you can use the int() function."
   ]
  },
  {
   "cell_type": "markdown",
   "id": "26e3c85d",
   "metadata": {},
   "source": [
    "### 42. How do you take input in Python?"
   ]
  },
  {
   "cell_type": "markdown",
   "id": "3f38ebb1",
   "metadata": {},
   "source": [
    "- To take input in Python, you can use the input() function.\n",
    "- It reads a line from the input and returns it as a string."
   ]
  },
  {
   "cell_type": "markdown",
   "id": "3fbaf385",
   "metadata": {},
   "source": [
    "### 43. What is a function?"
   ]
  },
  {
   "cell_type": "markdown",
   "id": "ba7b0131",
   "metadata": {},
   "source": [
    "- A function in Python is a block of reusable code that performs a specific task.\n",
    "- It allows you to organize code into manageable chunks, improving readability and reusability."
   ]
  },
  {
   "cell_type": "markdown",
   "id": "452769e4",
   "metadata": {},
   "source": [
    "### 44. What is recursion?"
   ]
  },
  {
   "cell_type": "markdown",
   "id": "13b9d22a",
   "metadata": {},
   "source": [
    "- Recursion is a programming technique where a function calls itself in order to solve a problem.\n",
    "- In recursion, a function solves a problem by solving smaller instances of the same problem."
   ]
  },
  {
   "cell_type": "markdown",
   "id": "6dfcf073",
   "metadata": {},
   "source": [
    "### 45. What does the function zip() do?"
   ]
  },
  {
   "cell_type": "markdown",
   "id": "b0570007",
   "metadata": {},
   "source": [
    "- The zip() function in Python is used to combine elements from multiple iterables (like lists, tuples, etc.) into tuples.\n",
    "- It returns an iterator of tuples, where the i-th tuple contains the i-th element from each of the argument sequences or iterables."
   ]
  },
  {
   "cell_type": "markdown",
   "id": "f21436aa",
   "metadata": {},
   "source": [
    "### 46. How do you calculate the length of a string?"
   ]
  },
  {
   "cell_type": "markdown",
   "id": "2924ecb3",
   "metadata": {},
   "source": [
    "- You can calculate the length of a string in Python using the len() function. "
   ]
  },
  {
   "cell_type": "markdown",
   "id": "d720158d",
   "metadata": {},
   "source": [
    "### 47. Explain Python List Comprehension."
   ]
  },
  {
   "cell_type": "markdown",
   "id": "f673dc77",
   "metadata": {},
   "source": [
    "- Python List Comprehension is a concise way to create lists.\n",
    "- It provides a compact syntax for creating lists in a single line of code, often replacing the need for a loop.\n",
    "- List comprehension consists of an expression followed by a for clause, optionally followed by if clauses. "
   ]
  },
  {
   "cell_type": "markdown",
   "id": "05675ada",
   "metadata": {},
   "source": [
    "### 48. How do you get all values from a Python dictionary?"
   ]
  },
  {
   "cell_type": "markdown",
   "id": "d6f3ca46",
   "metadata": {},
   "source": [
    "- To get all values from a Python dictionary, you can use the values() method.\n",
    "- It returns a view object that displays a list of all values in the dictionary."
   ]
  },
  {
   "cell_type": "markdown",
   "id": "9b768f82",
   "metadata": {},
   "source": [
    "### 49.What if you want to toggle case for a Python string?"
   ]
  },
  {
   "cell_type": "markdown",
   "id": "3a5d9305",
   "metadata": {},
   "source": [
    "- To toggle the case for a Python string, you can use the swapcase() method.\n",
    "- This method converts uppercase characters to lowercase and vice versa."
   ]
  },
  {
   "cell_type": "markdown",
   "id": "5e8a031f",
   "metadata": {},
   "source": [
    "### 50.Write code to print only upto the letter t."
   ]
  },
  {
   "cell_type": "code",
   "execution_count": 4,
   "id": "25560e93",
   "metadata": {},
   "outputs": [
    {
     "name": "stdout",
     "output_type": "stream",
     "text": [
      "I love Py"
     ]
    }
   ],
   "source": [
    "s = 'I love Python'\n",
    "i=0\n",
    "while s[i]!='t':\n",
    "    print(s[i],end='')\n",
    "    i+=1"
   ]
  },
  {
   "cell_type": "markdown",
   "id": "57d8c9c1",
   "metadata": {},
   "source": [
    "### 51. What is the purpose of bytes() in Python?"
   ]
  },
  {
   "cell_type": "markdown",
   "id": "3c2c562f",
   "metadata": {},
   "source": [
    "- The `bytes()` function in Python is used to create a new immutable bytes object, which is an immutable sequence of bytes.\n",
    "- It is often used to convert a sequence of integers into a bytes object or to create a bytes object from a string.\n",
    "- It's commonly used in situations where data needs to be represented as a sequence of bytes, such as when working with binary data or when interfacing with network protocols."
   ]
  },
  {
   "cell_type": "markdown",
   "id": "5215905a",
   "metadata": {},
   "source": [
    "### 52. What is a control flow statement?"
   ]
  },
  {
   "cell_type": "markdown",
   "id": "a86b4312",
   "metadata": {},
   "source": [
    "- A control flow statement in Python is a statement that determines the order in which statements or blocks of code are executed in a program.\n",
    "- Control flow statements include conditional statements like `if`, `elif`, and `else`, loop statements like `for` and `while`, and control flow modifiers like `break`, `continue`, and `pass`.\n",
    "- These statements allow programmers to control the flow of execution in their programs based on conditions and loops."
   ]
  },
  {
   "cell_type": "markdown",
   "id": "ed3e2996",
   "metadata": {},
   "source": [
    "### 53. Create a new list to convert the following list of number strings to a list of numbers.\n",
    "```python    \n",
    "nums=[‘22’,’68’,’110’,’89’,’31’,’12’]\n",
    "```"
   ]
  },
  {
   "cell_type": "code",
   "execution_count": 13,
   "id": "89180d59",
   "metadata": {},
   "outputs": [
    {
     "name": "stdout",
     "output_type": "stream",
     "text": [
      "[22, 68, 110, 89, 31, 12]\n"
     ]
    }
   ],
   "source": [
    "nums = ['22', '68', '110', '89', '31', '12']\n",
    "numbers = [int(num) for num in nums]\n",
    "print(numbers)"
   ]
  },
  {
   "cell_type": "markdown",
   "id": "c0cfd74f",
   "metadata": {},
   "source": [
    "### 54. Given the first and last names of all employees in your firm, what data type will you use to store it?"
   ]
  },
  {
   "cell_type": "markdown",
   "id": "2318e036",
   "metadata": {},
   "source": [
    "- To store the first and last names of all employees in your firm, you can use a data structure like a list of tuples or a list of dictionaries.\n",
    "- Each tuple or dictionary would represent an employee, with keys or elements for first name and last name."
   ]
  },
  {
   "cell_type": "markdown",
   "id": "51400f7c",
   "metadata": {},
   "source": [
    "### 55. How would you work with numbers other than those in the decimal number system?"
   ]
  },
  {
   "cell_type": "markdown",
   "id": "0999bcb3",
   "metadata": {},
   "source": [
    "- To work with numbers other than those in the decimal number system, Python provides built-in functions and libraries.\n",
    "- For example, you can use `bin()` to convert a number to its binary representation, `hex()` to convert it to hexadecimal, and `oct()` to convert it to octal.\n",
    "- Additionally, Python's `math` module provides functions for working with numbers in various mathematical systems."
   ]
  },
  {
   "cell_type": "markdown",
   "id": "bf7bceae",
   "metadata": {},
   "source": [
    "### 56. What does the following code output?\n",
    "\n",
    "```python\n",
    "def extendList(val, list=[]):\n",
    "    list.append(val)\n",
    "    return list\n",
    "\n",
    "list1 = extendList(10)\n",
    "print(list1)\n",
    "list2 = extendList(123,[])\n",
    "print(list2)\n",
    "list3 = extendList('a')\n",
    "print(list3)\n",
    "list1,list2,list3\n",
    "```"
   ]
  },
  {
   "cell_type": "markdown",
   "id": "bea2a9d7",
   "metadata": {},
   "source": [
    "- The output of the given code would be:\n",
    "\n",
    "```\n",
    "([10, 'a'], [123], [10, 'a'])\n",
    "```\n",
    "\n",
    "- This output might seem surprising, but it's due to the way default arguments work in Python. Let's break down the code:\n",
    "    1. When `extendList(10)` is called, it appends `10` to the default list `[]`, and `list1` becomes `[10]`.\n",
    "    2. When `extendList(123, [])` is called, it appends `123` to the new empty list `[]`, and `list2` becomes `[123]`.\n",
    "    3. When `extendList('a')` is called, it appends `'a'` to the existing default list `[]`, and `list3` becomes `[10, 'a']`.\n",
    "\n",
    "- The reason for this unexpected behavior is that default parameter values in Python are evaluated once when the function is defined, not each time the function is called.\n",
    "- So, in this case, the default list `[]` is created only once, and subsequent calls to the function use the same list object.\n",
    "- To avoid this issue, it's recommended not to use mutable objects (like lists) as default parameter values.\n",
    "- Instead, you can use `None` as the default value and create a new list inside the function if the parameter is `None`.\n",
    "- Here's the corrected version of the function:\n",
    "\n",
    "```python\n",
    "def extendList(val, list=None):\n",
    "    if list is None:\n",
    "        list = []\n",
    "    list.append(val)\n",
    "    return list\n",
    "```\n",
    "\n",
    "- With this modification, each call to `extendList()` will create a new list if one is not provided, preventing unintended behavior."
   ]
  },
  {
   "cell_type": "markdown",
   "id": "82932413",
   "metadata": {},
   "source": [
    "### 57. How many arguments can the range() function take?"
   ]
  },
  {
   "cell_type": "markdown",
   "id": "6b2b3e25",
   "metadata": {},
   "source": [
    "- The `range()` function in Python can take up to three arguments.\n",
    "- The first argument specifies the start of the range, the second argument specifies the end (exclusive) of the range, and the third argument specifies the step size.\n",
    "- If only one argument is provided, it is considered as the end value, the start value defaults to 0, and the step defaults to 1. If two arguments are provided, they are considered as the start and end values, and the step defaults to 1."
   ]
  },
  {
   "cell_type": "markdown",
   "id": "909b16af",
   "metadata": {},
   "source": [
    "### 58. What is PEP 8?"
   ]
  },
  {
   "cell_type": "markdown",
   "id": "fd7aab1d",
   "metadata": {},
   "source": [
    "- PEP 8 is the Python Enhancement Proposal that provides guidelines and best practices for writing Python code to improve its readability and consistency.\n",
    "- It covers topics such as naming conventions, code layout, whitespace, comments, and programming recommendations.\n",
    "- Following PEP 8 helps make Python code more readable and maintainable, especially in collaborative projects."
   ]
  },
  {
   "cell_type": "markdown",
   "id": "c1ef1505",
   "metadata": {},
   "source": [
    "### 59. How is Python different from Java?"
   ]
  },
  {
   "cell_type": "markdown",
   "id": "352f2271",
   "metadata": {},
   "source": [
    "- Python and Java are both popular programming languages, but they have several differences:\n",
    "   - Python is dynamically typed, while Java is statically typed.\n",
    "   - Python uses indentation for block delimiters, while Java uses curly braces.\n",
    "   - Python is interpreted, while Java is compiled.\n",
    "   - Python is known for its simplicity and readability, while Java is known for its performance and platform independence."
   ]
  },
  {
   "cell_type": "markdown",
   "id": "6298da60",
   "metadata": {},
   "source": [
    "### 60. How Python code execute internally?"
   ]
  },
  {
   "cell_type": "markdown",
   "id": "b949916d",
   "metadata": {},
   "source": [
    "- Python code execution involves several steps, including lexing, parsing, compiling, and interpreting. Here's a high-level overview of how Python code executes internally:\n",
    "\n",
    "1. **Lexing (Tokenization)**:\n",
    "   - The Python interpreter reads the source code and breaks it down into individual tokens such as identifiers, keywords, operators, literals, etc.\n",
    "   - For example, the statement `x = 5 + 3` might be tokenized into `IDENTIFIER(x)`, `ASSIGN`, `INTEGER(5)`, `PLUS`, `INTEGER(3)`.\n",
    "\n",
    "2. **Parsing**:\n",
    "   - The tokens generated from lexing are then organized into a hierarchical structure representing the syntactic structure of the code, known as an Abstract Syntax Tree (AST).\n",
    "   - The AST captures the relationships between different parts of the code, such as expressions, statements, and control flow structures.\n",
    "\n",
    "3. **Compilation**:\n",
    "   - The AST is compiled into bytecode, which is a lower-level representation of the code that the Python interpreter can efficiently execute.\n",
    "   - Each bytecode instruction corresponds to a specific operation, such as loading a value onto the stack, performing an arithmetic operation, or calling a function.\n",
    "\n",
    "4. **Interpretation**:\n",
    "   - The Python Virtual Machine (PVM) executes the bytecode instruction by instruction.\n",
    "   - The interpreter follows the control flow specified by the bytecode, manipulating the program's state (such as the call stack, variable values, etc.) accordingly.\n",
    "   - When the interpreter encounters function calls or other blocks of code, it may recursively execute those blocks, pushing and popping frames on the call stack to manage function calls and returns.\n",
    "\n",
    "5. **Execution**:\n",
    "   - During execution, the interpreter interacts with the Python runtime environment, which provides access to system resources, libraries, and other functionalities.\n",
    "   - Python's dynamic nature allows for features like dynamic typing, memory management (including garbage collection), and runtime introspection.\n",
    "\n",
    "- Overall, Python's execution process involves translating source code into a series of lower-level instructions (bytecode), which are then executed by the Python interpreter within the runtime environment. This process enables Python to provide both flexibility and performance while executing code."
   ]
  },
  {
   "cell_type": "markdown",
   "id": "a0f31acb",
   "metadata": {},
   "source": []
  }
 ],
 "metadata": {
  "kernelspec": {
   "display_name": "Python 3 (ipykernel)",
   "language": "python",
   "name": "python3"
  },
  "language_info": {
   "codemirror_mode": {
    "name": "ipython",
    "version": 3
   },
   "file_extension": ".py",
   "mimetype": "text/x-python",
   "name": "python",
   "nbconvert_exporter": "python",
   "pygments_lexer": "ipython3",
   "version": "3.10.9"
  }
 },
 "nbformat": 4,
 "nbformat_minor": 5
}
