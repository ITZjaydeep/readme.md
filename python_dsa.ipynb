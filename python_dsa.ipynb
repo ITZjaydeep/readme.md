{
 "cells": [
  {
   "cell_type": "markdown",
   "id": "5fe86876",
   "metadata": {},
   "source": [
    "# Python DSA"
   ]
  },
  {
   "cell_type": "markdown",
   "id": "ebf3f0b5",
   "metadata": {},
   "source": [
    "### 1. Count digits in a number"
   ]
  },
  {
   "cell_type": "code",
   "execution_count": 1,
   "id": "5748679d",
   "metadata": {},
   "outputs": [],
   "source": [
    "def count_digits(num):\n",
    "    # if num is zero return one\n",
    "    if num==0: return 1\n",
    "    \n",
    "    # convert positive int\n",
    "    num = abs(num)\n",
    "    \n",
    "    # initialize number of digits to zero\n",
    "    num_of_digits = 0\n",
    "    \n",
    "    # loop for calculate number of digits\n",
    "    while num!=0:\n",
    "        # remove last digit\n",
    "        num //= 10\n",
    "        # increment number of digits\n",
    "        num_of_digits += 1\n",
    "    \n",
    "    # return number of digits\n",
    "    return num_of_digits"
   ]
  },
  {
   "cell_type": "code",
   "execution_count": 2,
   "id": "056fa5e9",
   "metadata": {},
   "outputs": [],
   "source": [
    "def count_digits(num):\n",
    "    # convert number to string & return its length\n",
    "    return len(str(abs(num)))"
   ]
  },
  {
   "cell_type": "code",
   "execution_count": 3,
   "id": "ca4e2383",
   "metadata": {},
   "outputs": [],
   "source": [
    "from math import floor, log10\n",
    "\n",
    "def count_digits(num):\n",
    "    # if num is zero return one\n",
    "    if num==0: return 1\n",
    "    \n",
    "    # return number if digits\n",
    "    return floor(log10(abs(num)) + 1)"
   ]
  },
  {
   "cell_type": "code",
   "execution_count": 4,
   "id": "ee8d0390",
   "metadata": {},
   "outputs": [],
   "source": [
    "def count_digits(num):\n",
    "    # if num is zero return one\n",
    "    if num==0: return 1\n",
    "    \n",
    "    # return number if digits\n",
    "    return floor(log10(abs(num)) + 1)\n",
    "\n",
    "def count_all_digits(num):\n",
    "    # if num is integer return number of digits\n",
    "    if isinstance(num, int): return count_digits(num)\n",
    "    \n",
    "    # if num is float divide num in two part &\n",
    "    # calculate sum of its number of digits\n",
    "    elif isinstance(num, float):\n",
    "        two_parts = str(abs(num)).split('.')\n",
    "        integer_part = int(two_parts[0])\n",
    "        fractional_part =  int(two_parts[1])\n",
    "        number_of_digits = count_digits(integer_part) + count_digits(fractional_part)\n",
    "        return number_of_digits"
   ]
  },
  {
   "cell_type": "code",
   "execution_count": 5,
   "id": "2e9b43cc",
   "metadata": {},
   "outputs": [
    {
     "data": {
      "text/plain": [
       "5"
      ]
     },
     "execution_count": 5,
     "metadata": {},
     "output_type": "execute_result"
    }
   ],
   "source": [
    "count_all_digits(-12.108)"
   ]
  },
  {
   "cell_type": "markdown",
   "id": "9e673b36",
   "metadata": {},
   "source": [
    "### 2. Reverse a number"
   ]
  },
  {
   "cell_type": "code",
   "execution_count": 6,
   "id": "462ee168",
   "metadata": {},
   "outputs": [
    {
     "data": {
      "text/plain": [
       "321"
      ]
     },
     "execution_count": 6,
     "metadata": {},
     "output_type": "execute_result"
    }
   ],
   "source": [
    "def reverse_number(num):\n",
    "    # initialize reverse number\n",
    "    rev_num = 0\n",
    "    \n",
    "    # loop for find reverse number\n",
    "    while num!=0:\n",
    "        # extract last digit & add to reverse number\n",
    "        rev_num = (rev_num*10) + (num%10)\n",
    "        # remove last digit\n",
    "        num //= 10\n",
    "    \n",
    "    # return reverse number\n",
    "    return rev_num\n",
    "\n",
    "reverse_number(123)"
   ]
  },
  {
   "cell_type": "code",
   "execution_count": 7,
   "id": "8f9c4713",
   "metadata": {},
   "outputs": [
    {
     "data": {
      "text/plain": [
       "321"
      ]
     },
     "execution_count": 7,
     "metadata": {},
     "output_type": "execute_result"
    }
   ],
   "source": [
    "def reverse_number(num):\n",
    "    # convert number to reverse string &\n",
    "    # again convert to number & return reverse number \n",
    "    return int(str(num)[::-1])\n",
    "\n",
    "reverse_number(123)"
   ]
  },
  {
   "cell_type": "markdown",
   "id": "f4ec1241",
   "metadata": {},
   "source": [
    "### 3. Check if a number is Palindrome or Not"
   ]
  },
  {
   "cell_type": "code",
   "execution_count": 8,
   "id": "4abe75c1",
   "metadata": {},
   "outputs": [
    {
     "data": {
      "text/plain": [
       "True"
      ]
     },
     "execution_count": 8,
     "metadata": {},
     "output_type": "execute_result"
    }
   ],
   "source": [
    "def reverse_number(num):\n",
    "    # initialize reverse number\n",
    "    rev_num = 0\n",
    "    \n",
    "    # loop for find reverse number\n",
    "    while num!=0:\n",
    "        # extract last digit & add to reverse number\n",
    "        rev_num = (rev_num*10) + (num%10)\n",
    "        # remove last digit\n",
    "        num //= 10\n",
    "    \n",
    "    # return reverse number\n",
    "    return rev_num\n",
    "\n",
    "def is_palindrome(num):\n",
    "    \n",
    "    # convert number to positive value\n",
    "    num = abs(num)\n",
    "    \n",
    "    # calculate reverse number\n",
    "    rev_num = reverse_number(num)\n",
    "    \n",
    "    # if actual number & reverse number equal, number is palindrome\n",
    "    if num==rev_num: return True\n",
    "    \n",
    "    # else number is not palindrome\n",
    "    else: return False\n",
    "\n",
    "is_palindrome(-120021)"
   ]
  },
  {
   "cell_type": "code",
   "execution_count": 9,
   "id": "5c617a89",
   "metadata": {},
   "outputs": [
    {
     "data": {
      "text/plain": [
       "True"
      ]
     },
     "execution_count": 9,
     "metadata": {},
     "output_type": "execute_result"
    }
   ],
   "source": [
    "def is_palindrome(num):\n",
    "    # convert number to positive value\n",
    "    num = abs(num)\n",
    "    \n",
    "    # calculate reverse number\n",
    "    rev_num = int(str(num)[::-1])\n",
    "    \n",
    "    # if actual number & reverse number equal, number is palindrome\n",
    "    if num==rev_num: return True\n",
    "    \n",
    "    # else number is not palindrome\n",
    "    else: return False\n",
    "\n",
    "is_palindrome(-120021)"
   ]
  },
  {
   "cell_type": "markdown",
   "id": "99f8e5ee",
   "metadata": {},
   "source": [
    "### 4. Find GCD of two numbers"
   ]
  },
  {
   "cell_type": "code",
   "execution_count": 10,
   "id": "fddfb832",
   "metadata": {},
   "outputs": [],
   "source": [
    "def gcd(a, b):\n",
    "    # Loop from the minimum of a and b down to 1\n",
    "    for i in range(min(a,b), 1, -1):\n",
    "        \n",
    "        # Check if both a and b are divisible by i\n",
    "        if (a%i==0) and (b%i==0):\n",
    "        \n",
    "            # Return i if it's a common divisor\n",
    "            return i"
   ]
  },
  {
   "cell_type": "code",
   "execution_count": 11,
   "id": "26410881",
   "metadata": {},
   "outputs": [],
   "source": [
    "# The intuition behind this algorithm lies in the fact that\n",
    "# the GCD of two numbers remains the same if we subtract the smaller number from the larger one,\n",
    "# until we obtain a pair where one number is 0.\n",
    "# At that point, the non-zero number will be the GCD.\n",
    "# Euclidean algorithm\n",
    "\n",
    "def gcd(a, b):\n",
    "    # Base case: if b is 0, a is the GCD\n",
    "    if b == 0:\n",
    "        return a\n",
    "\n",
    "    # Recursive call with arguments b and remainder of a divided by b\n",
    "    return gcd(b, a % b)"
   ]
  },
  {
   "cell_type": "markdown",
   "id": "07f679b6",
   "metadata": {},
   "source": [
    "## 5. Check if a number is Armstrong Number or not"
   ]
  },
  {
   "cell_type": "code",
   "execution_count": 12,
   "id": "0b470792",
   "metadata": {},
   "outputs": [],
   "source": [
    "def is_armstrong(num):\n",
    "    # if number is zero, return true\n",
    "    if num==0: return True\n",
    "    \n",
    "    # calculate number of digit\n",
    "    num_of_digits = floor(log10(abs(num)) + 1)\n",
    "    \n",
    "    # assign number to temp variable\n",
    "    temp = num\n",
    "    \n",
    "    # initialize sum of power to zero\n",
    "    sum_of_power = 0\n",
    "    \n",
    "    # calculate sum of power\n",
    "    while temp!=0:\n",
    "        sum_of_power += pow(temp%10, num_of_digits)\n",
    "        temp //= 10\n",
    "    \n",
    "    # if actual number & sum of power is equal then return True\n",
    "    if sum_of_power==num: return True\n",
    "    \n",
    "    # else return False\n",
    "    else: return False"
   ]
  },
  {
   "cell_type": "markdown",
   "id": "a6cd439d",
   "metadata": {},
   "source": [
    "## 6. Print all Divisors of a given Number"
   ]
  },
  {
   "cell_type": "code",
   "execution_count": 13,
   "id": "0587a762",
   "metadata": {},
   "outputs": [],
   "source": [
    "def print_div(num):\n",
    "    for i in range(1, num+1):\n",
    "        if num%i==0:\n",
    "            print(i, end='-')"
   ]
  },
  {
   "cell_type": "code",
   "execution_count": 14,
   "id": "4ca616ec",
   "metadata": {},
   "outputs": [],
   "source": [
    "def print_div(num):\n",
    "    for i in range(1, int(num**0.5)+1):\n",
    "        if num % i == 0:\n",
    "            print(i, end=\" \")\n",
    "            if i != num/i:\n",
    "                print(int(num/i), end=\" \")\n",
    "        print()"
   ]
  },
  {
   "cell_type": "markdown",
   "id": "9512a5a2",
   "metadata": {},
   "source": [
    "### 7. Check if a number is prime or not"
   ]
  },
  {
   "cell_type": "code",
   "execution_count": 15,
   "id": "551a88b1",
   "metadata": {},
   "outputs": [],
   "source": [
    "def is_prime(num):\n",
    "    for i in range(2, num):\n",
    "        if num % i == 0:\n",
    "            return False\n",
    "    return True"
   ]
  },
  {
   "cell_type": "code",
   "execution_count": 16,
   "id": "a6cd0c0e",
   "metadata": {},
   "outputs": [],
   "source": [
    "def isPrime(num):\n",
    "    for i in range(2, int(num**0.5)+1):\n",
    "        if num % i == 0:\n",
    "            return False\n",
    "    return True"
   ]
  },
  {
   "cell_type": "markdown",
   "id": "a9e2ede8",
   "metadata": {},
   "source": [
    "### 8. Print 1 to N using Recursion"
   ]
  },
  {
   "cell_type": "code",
   "execution_count": 17,
   "id": "64a3812e",
   "metadata": {},
   "outputs": [],
   "source": [
    "def forward(n):\n",
    "    if n==0:\n",
    "        return\n",
    "    forward(n-1)\n",
    "    print(n)  \n",
    "    \n",
    "def backward(n):\n",
    "    if n==0:\n",
    "        return\n",
    "    print(n)\n",
    "    backward(n-1)"
   ]
  },
  {
   "cell_type": "markdown",
   "id": "8f9be4ef",
   "metadata": {},
   "source": [
    "### 9. Sum of first N Natural Numbers"
   ]
  },
  {
   "cell_type": "code",
   "execution_count": 18,
   "id": "a18ef024",
   "metadata": {},
   "outputs": [],
   "source": [
    "def sum_of_natural(n, sum_n=0):\n",
    "    if n==0:\n",
    "        return sum_n\n",
    "    sum_n += n \n",
    "    return sum_of_natural(n-1, sum_n)"
   ]
  },
  {
   "cell_type": "code",
   "execution_count": 19,
   "id": "e6603bb6",
   "metadata": {},
   "outputs": [],
   "source": [
    "def sum_of_natural(n):\n",
    "    if n==0:\n",
    "        return 0\n",
    "    return n + sum_of_natural(n-1)"
   ]
  },
  {
   "cell_type": "markdown",
   "id": "be2a2162",
   "metadata": {},
   "source": [
    "### 10. Factorial of a Number : Iterative and Recursive"
   ]
  },
  {
   "cell_type": "code",
   "execution_count": 20,
   "id": "b0b4706c",
   "metadata": {},
   "outputs": [],
   "source": [
    "def factorial(n):\n",
    "    fact = 1\n",
    "    for i in range(1, n+1):\n",
    "        fact *= i\n",
    "    return fact"
   ]
  },
  {
   "cell_type": "code",
   "execution_count": 21,
   "id": "0939eaac",
   "metadata": {},
   "outputs": [],
   "source": [
    "def factorial(n):\n",
    "    if n==0: return 1\n",
    "    return n * factorial(n-1)"
   ]
  },
  {
   "cell_type": "markdown",
   "id": "638eb1cc",
   "metadata": {},
   "source": [
    "### 11. Reverse a given Array"
   ]
  },
  {
   "cell_type": "code",
   "execution_count": 22,
   "id": "55d7f8e3",
   "metadata": {},
   "outputs": [],
   "source": [
    "def reverse_array(nums):\n",
    "    start = 0\n",
    "    end = len(nums)-1\n",
    "    while start<end:\n",
    "        nums[start], nums[end] = nums[end], nums[start]\n",
    "        start += 1\n",
    "        end -= 1\n",
    "    return nums"
   ]
  },
  {
   "cell_type": "code",
   "execution_count": 23,
   "id": "1522e2ad",
   "metadata": {},
   "outputs": [],
   "source": [
    "def reverse_array(nums, start, end):\n",
    "    if start<end:\n",
    "        nums[start], nums[end] = nums[end], nums[start]\n",
    "        return reverse_array(nums, start+1, end-1)\n",
    "    else:\n",
    "        return nums"
   ]
  },
  {
   "cell_type": "markdown",
   "id": "7767273c",
   "metadata": {},
   "source": [
    "### 12. Check if the given String is Palindrome or not"
   ]
  },
  {
   "cell_type": "code",
   "execution_count": 24,
   "id": "4fa6b536",
   "metadata": {},
   "outputs": [],
   "source": [
    "def is_str_palindrome(string):\n",
    "    rev_string = string[::-1]\n",
    "    if string==rev_string: return True\n",
    "    else: return False"
   ]
  },
  {
   "cell_type": "code",
   "execution_count": 25,
   "id": "5aa5a0bd",
   "metadata": {},
   "outputs": [],
   "source": [
    "def is_str_palindrome(string):\n",
    "    start = 0\n",
    "    end = len(string)-1\n",
    "    while start<end:\n",
    "        if string[start]!=string[end]:\n",
    "            return False\n",
    "        start+=1\n",
    "        end-=1\n",
    "    return True"
   ]
  },
  {
   "cell_type": "code",
   "execution_count": 26,
   "id": "b94a193d",
   "metadata": {},
   "outputs": [],
   "source": [
    "def is_str_palindrome(string, start, end):\n",
    "    if (start<end) and (string[start]!=string[end]):\n",
    "        return False\n",
    "    elif start>=end:\n",
    "        return True\n",
    "    else:\n",
    "        return is_str_palindrome(string, start+1, end-1)"
   ]
  },
  {
   "cell_type": "markdown",
   "id": "7f64bedc",
   "metadata": {},
   "source": [
    "### 13. Print Fibonacci Series up to Nth term"
   ]
  },
  {
   "cell_type": "code",
   "execution_count": 27,
   "id": "838794d6",
   "metadata": {},
   "outputs": [],
   "source": [
    "def fibonacci(n):\n",
    "    if n==1:\n",
    "        print(0)\n",
    "    elif n==2:\n",
    "        print(0,1)\n",
    "    else:\n",
    "        print(0,1,end=' ')\n",
    "        num1 = 0\n",
    "        num2 = 1\n",
    "        for _ in range(3, n+1):\n",
    "            num3 = num1 + num2\n",
    "            num1 = num2\n",
    "            num2 = num3\n",
    "            print(num3, end=' ')"
   ]
  },
  {
   "cell_type": "code",
   "execution_count": 28,
   "id": "0358088f",
   "metadata": {},
   "outputs": [
    {
     "name": "stdout",
     "output_type": "stream",
     "text": [
      "0 1 1 2 3 5 8 13 21 34 55 89 "
     ]
    }
   ],
   "source": [
    "fibonacci(12)"
   ]
  },
  {
   "cell_type": "code",
   "execution_count": 29,
   "id": "6ea4ecc2",
   "metadata": {},
   "outputs": [],
   "source": [
    "def fibonacci(n):\n",
    "    def fibonacci_term(n):\n",
    "        if n<=1:\n",
    "            return n\n",
    "        else:\n",
    "            return(fibonacci_term(n-1) + fibonacci_term(n-2))\n",
    "    for i in range(n):\n",
    "        print(fibonacci_term(i), end=' ')"
   ]
  },
  {
   "cell_type": "code",
   "execution_count": 30,
   "id": "12ee496f",
   "metadata": {},
   "outputs": [
    {
     "name": "stdout",
     "output_type": "stream",
     "text": [
      "0 1 1 2 3 5 8 13 21 34 55 89 "
     ]
    }
   ],
   "source": [
    "fibonacci(12)"
   ]
  },
  {
   "cell_type": "markdown",
   "id": "d50eea8b",
   "metadata": {},
   "source": [
    "### 14. Count frequency of each element in the array"
   ]
  },
  {
   "cell_type": "code",
   "execution_count": 31,
   "id": "8e5a03c7",
   "metadata": {},
   "outputs": [],
   "source": [
    "def count_frequency(nums):\n",
    "    for num1 in set(nums):\n",
    "        count=0\n",
    "        for num2 in nums:\n",
    "            if num1==num2:\n",
    "                count+=1\n",
    "        print(num1, count)"
   ]
  },
  {
   "cell_type": "code",
   "execution_count": 32,
   "id": "8c64be1c",
   "metadata": {},
   "outputs": [],
   "source": [
    "def count_frequency(nums):\n",
    "    frequency_map = {}\n",
    "    for num in nums:\n",
    "        frequency_map[num] = frequency_map.get(num, 0) + 1\n",
    "    return frequency_map"
   ]
  },
  {
   "cell_type": "code",
   "execution_count": 33,
   "id": "b02b0a58",
   "metadata": {},
   "outputs": [
    {
     "data": {
      "text/plain": [
       "{7: 4, 1: 1, 2: 3, 6: 2, 3: 3, 4: 1, 5: 1}"
      ]
     },
     "execution_count": 33,
     "metadata": {},
     "output_type": "execute_result"
    }
   ],
   "source": [
    "count_frequency([7,7,7,1,2,6,3,4,5,2,3,3,2,7,6])"
   ]
  },
  {
   "cell_type": "markdown",
   "id": "451c3c46",
   "metadata": {},
   "source": [
    "### 15. Find the highest/lowest frequency element"
   ]
  },
  {
   "cell_type": "code",
   "execution_count": 34,
   "id": "b2bf2d59",
   "metadata": {},
   "outputs": [],
   "source": [
    "def find_frequency(arr):\n",
    "    frequency_map = {}\n",
    "    for num in arr:\n",
    "        frequency_map[num] = frequency_map.get(num, 0) + 1\n",
    "    \n",
    "    max_frequency = max(frequency_map.values())\n",
    "    min_frequency = min(frequency_map.values())\n",
    "    \n",
    "    elements_with_max_frequency = [key for key, value in frequency_map.items() if value == max_frequency]\n",
    "    elements_with_min_frequency = [key for key, value in frequency_map.items() if value == min_frequency]\n",
    "    \n",
    "    return {\n",
    "        \"highest_frequency_elements\": elements_with_max_frequency,\n",
    "        \"highest_frequency\": max_frequency,\n",
    "        \"lowest_frequency_elements\": elements_with_min_frequency,\n",
    "        \"lowest_frequency\": min_frequency\n",
    "    }"
   ]
  },
  {
   "cell_type": "code",
   "execution_count": 35,
   "id": "eea9b64f",
   "metadata": {},
   "outputs": [
    {
     "data": {
      "text/plain": [
       "{'highest_frequency_elements': [7],\n",
       " 'highest_frequency': 4,\n",
       " 'lowest_frequency_elements': [1, 4, 5],\n",
       " 'lowest_frequency': 1}"
      ]
     },
     "execution_count": 35,
     "metadata": {},
     "output_type": "execute_result"
    }
   ],
   "source": [
    "find_frequency([7,7,7,1,2,6,3,4,5,2,3,3,2,7,6])"
   ]
  },
  {
   "cell_type": "code",
   "execution_count": null,
   "id": "29095cc1",
   "metadata": {},
   "outputs": [],
   "source": []
  }
 ],
 "metadata": {
  "kernelspec": {
   "display_name": "Python 3 (ipykernel)",
   "language": "python",
   "name": "python3"
  },
  "language_info": {
   "codemirror_mode": {
    "name": "ipython",
    "version": 3
   },
   "file_extension": ".py",
   "mimetype": "text/x-python",
   "name": "python",
   "nbconvert_exporter": "python",
   "pygments_lexer": "ipython3",
   "version": "3.10.9"
  }
 },
 "nbformat": 4,
 "nbformat_minor": 5
}
